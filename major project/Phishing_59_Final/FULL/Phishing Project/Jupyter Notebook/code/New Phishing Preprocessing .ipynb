{
 "cells": [
  {
   "cell_type": "markdown",
   "id": "3e2dab2b-bfa1-4477-b1f5-473b8e7512ec",
   "metadata": {},
   "source": [
    "## Importing required libraries"
   ]
  },
  {
   "cell_type": "code",
   "execution_count": 1,
   "id": "98ccdcae-62b5-4213-8bd3-75f173d6150b",
   "metadata": {},
   "outputs": [],
   "source": [
    "import numpy as np # Used for numerical operations, arrays, and mathematical computations.\n",
    "import pandas as pd # Helps in data manipulation and analysis using DataFrames and Series.\n",
    "import matplotlib.pyplot as plt # Used for creating static, animated, and interactive visualizations.\n",
    "%matplotlib inline \n",
    "# Display matplotlib plots directly in Jupyter Notebook cells\n",
    "import seaborn as sns # A visualization library built on top of Matplotlib, used for more attractive and informative statistical plots.\n",
    "from sklearn import metrics # Import evaluation metrics for classification, regression, and clustering models\n",
    "from sklearn.model_selection import train_test_split # Splits data into training and testing sets\n",
    "from sklearn.preprocessing import OneHotEncoder  # Encodes categorical features as one-hot numeric arrays\n",
    "from sklearn.compose import ColumnTransformer # Applies different preprocessing to specified columns\n",
    "import warnings # Import the warnings module to control warning messages\n",
    "warnings.filterwarnings('ignore') # Suppress all warning messages during code execution\n",
    "from sklearn.metrics import confusion_matrix, accuracy_score,classification_report # Import specific metrics for evaluating classification model performance"
   ]
  },
  {
   "cell_type": "markdown",
   "id": "530775ca-4164-4508-af72-11acfb4235fe",
   "metadata": {},
   "source": [
    "## Loading data into dataframe\n"
   ]
  },
  {
   "cell_type": "code",
   "execution_count": 2,
   "id": "48b53f6d-1a2d-4c87-a230-50375d39d891",
   "metadata": {},
   "outputs": [],
   "source": [
    "data = pd.read_csv(\"../data/phishing_site_urls.csv\")"
   ]
  },
  {
   "cell_type": "markdown",
   "id": "7177ceb5-3715-4c65-9f07-5c115324abe2",
   "metadata": {},
   "source": [
    "## Displaying top 5 Records"
   ]
  },
  {
   "cell_type": "code",
   "execution_count": 3,
   "id": "a93f2d91-9361-4cfd-989a-62248f6480bf",
   "metadata": {},
   "outputs": [
    {
     "data": {
      "text/html": [
       "<div>\n",
       "<style scoped>\n",
       "    .dataframe tbody tr th:only-of-type {\n",
       "        vertical-align: middle;\n",
       "    }\n",
       "\n",
       "    .dataframe tbody tr th {\n",
       "        vertical-align: top;\n",
       "    }\n",
       "\n",
       "    .dataframe thead th {\n",
       "        text-align: right;\n",
       "    }\n",
       "</style>\n",
       "<table border=\"1\" class=\"dataframe\">\n",
       "  <thead>\n",
       "    <tr style=\"text-align: right;\">\n",
       "      <th></th>\n",
       "      <th>URL</th>\n",
       "      <th>Label</th>\n",
       "    </tr>\n",
       "  </thead>\n",
       "  <tbody>\n",
       "    <tr>\n",
       "      <th>0</th>\n",
       "      <td>nobell.it/70ffb52d079109dca5664cce6f317373782/...</td>\n",
       "      <td>bad</td>\n",
       "    </tr>\n",
       "    <tr>\n",
       "      <th>1</th>\n",
       "      <td>www.dghjdgf.com/paypal.co.uk/cycgi-bin/webscrc...</td>\n",
       "      <td>bad</td>\n",
       "    </tr>\n",
       "    <tr>\n",
       "      <th>2</th>\n",
       "      <td>serviciosbys.com/paypal.cgi.bin.get-into.herf....</td>\n",
       "      <td>bad</td>\n",
       "    </tr>\n",
       "    <tr>\n",
       "      <th>3</th>\n",
       "      <td>mail.printakid.com/www.online.americanexpress....</td>\n",
       "      <td>bad</td>\n",
       "    </tr>\n",
       "    <tr>\n",
       "      <th>4</th>\n",
       "      <td>thewhiskeydregs.com/wp-content/themes/widescre...</td>\n",
       "      <td>bad</td>\n",
       "    </tr>\n",
       "  </tbody>\n",
       "</table>\n",
       "</div>"
      ],
      "text/plain": [
       "                                                 URL Label\n",
       "0  nobell.it/70ffb52d079109dca5664cce6f317373782/...   bad\n",
       "1  www.dghjdgf.com/paypal.co.uk/cycgi-bin/webscrc...   bad\n",
       "2  serviciosbys.com/paypal.cgi.bin.get-into.herf....   bad\n",
       "3  mail.printakid.com/www.online.americanexpress....   bad\n",
       "4  thewhiskeydregs.com/wp-content/themes/widescre...   bad"
      ]
     },
     "execution_count": 3,
     "metadata": {},
     "output_type": "execute_result"
    }
   ],
   "source": [
    "data.head()"
   ]
  },
  {
   "cell_type": "markdown",
   "id": "ffa0a881-b35e-464c-8551-a8765698d6f1",
   "metadata": {},
   "source": [
    "## Displaying bottom 5 Records"
   ]
  },
  {
   "cell_type": "code",
   "execution_count": 4,
   "id": "e349a83f-b80c-4f57-ba2e-83dd6980059b",
   "metadata": {},
   "outputs": [
    {
     "data": {
      "text/html": [
       "<div>\n",
       "<style scoped>\n",
       "    .dataframe tbody tr th:only-of-type {\n",
       "        vertical-align: middle;\n",
       "    }\n",
       "\n",
       "    .dataframe tbody tr th {\n",
       "        vertical-align: top;\n",
       "    }\n",
       "\n",
       "    .dataframe thead th {\n",
       "        text-align: right;\n",
       "    }\n",
       "</style>\n",
       "<table border=\"1\" class=\"dataframe\">\n",
       "  <thead>\n",
       "    <tr style=\"text-align: right;\">\n",
       "      <th></th>\n",
       "      <th>URL</th>\n",
       "      <th>Label</th>\n",
       "    </tr>\n",
       "  </thead>\n",
       "  <tbody>\n",
       "    <tr>\n",
       "      <th>549341</th>\n",
       "      <td>23.227.196.215/</td>\n",
       "      <td>bad</td>\n",
       "    </tr>\n",
       "    <tr>\n",
       "      <th>549342</th>\n",
       "      <td>apple-checker.org/</td>\n",
       "      <td>bad</td>\n",
       "    </tr>\n",
       "    <tr>\n",
       "      <th>549343</th>\n",
       "      <td>apple-iclods.org/</td>\n",
       "      <td>bad</td>\n",
       "    </tr>\n",
       "    <tr>\n",
       "      <th>549344</th>\n",
       "      <td>apple-uptoday.org/</td>\n",
       "      <td>bad</td>\n",
       "    </tr>\n",
       "    <tr>\n",
       "      <th>549345</th>\n",
       "      <td>apple-search.info</td>\n",
       "      <td>bad</td>\n",
       "    </tr>\n",
       "  </tbody>\n",
       "</table>\n",
       "</div>"
      ],
      "text/plain": [
       "                       URL Label\n",
       "549341     23.227.196.215/   bad\n",
       "549342  apple-checker.org/   bad\n",
       "549343   apple-iclods.org/   bad\n",
       "549344  apple-uptoday.org/   bad\n",
       "549345   apple-search.info   bad"
      ]
     },
     "execution_count": 4,
     "metadata": {},
     "output_type": "execute_result"
    }
   ],
   "source": [
    "data.tail()"
   ]
  },
  {
   "cell_type": "markdown",
   "id": "9c6ff709-7099-44e8-ae86-8204490b199a",
   "metadata": {},
   "source": [
    "## nunique value in columns"
   ]
  },
  {
   "cell_type": "code",
   "execution_count": 5,
   "id": "1150eae4-cc12-4fae-8c3e-ea9b12e02990",
   "metadata": {},
   "outputs": [
    {
     "data": {
      "text/plain": [
       "URL      507195\n",
       "Label         2\n",
       "dtype: int64"
      ]
     },
     "execution_count": 5,
     "metadata": {},
     "output_type": "execute_result"
    }
   ],
   "source": [
    "data.nunique().T"
   ]
  },
  {
   "cell_type": "markdown",
   "id": "ea3e1945-65e8-46d3-beae-090d317804ed",
   "metadata": {},
   "source": [
    "## Rename labels for clarity\n"
   ]
  },
  {
   "cell_type": "code",
   "execution_count": 6,
   "id": "5228fa4e-a714-424c-aa25-7a9828f7604c",
   "metadata": {},
   "outputs": [],
   "source": [
    "data[\"Label\"] = data[\"Label\"].apply(lambda x: \"phishing\" if x.lower() == \"bad\" else \"legit\")"
   ]
  },
  {
   "cell_type": "markdown",
   "id": "57ab53ad-0524-430a-9311-848c557a921b",
   "metadata": {},
   "source": [
    "## Check the distribution to confirm"
   ]
  },
  {
   "cell_type": "code",
   "execution_count": 7,
   "id": "90c93bbb-9173-48fa-9b0d-c02b92a0fdfa",
   "metadata": {},
   "outputs": [
    {
     "name": "stdout",
     "output_type": "stream",
     "text": [
      "Label\n",
      "legit       392924\n",
      "phishing    156422\n",
      "Name: count, dtype: int64\n",
      "\n",
      "Class distribution (percent):\n",
      "Label\n",
      "legit       71.525778\n",
      "phishing    28.474222\n",
      "Name: proportion, dtype: float64\n"
     ]
    }
   ],
   "source": [
    "print(data['Label'].value_counts())\n",
    "\n",
    "#percentage\n",
    "print(\"\\nClass distribution (percent):\")\n",
    "print(data['Label'].value_counts(normalize=True) * 100)"
   ]
  },
  {
   "cell_type": "markdown",
   "id": "364ac106-c77e-4a4d-b6a0-670cf3d3cf4e",
   "metadata": {},
   "source": [
    "## Shape of the data"
   ]
  },
  {
   "cell_type": "code",
   "execution_count": 8,
   "id": "72468ee2-e30c-469d-bfa2-e535ed203aeb",
   "metadata": {},
   "outputs": [
    {
     "data": {
      "text/plain": [
       "(549346, 2)"
      ]
     },
     "execution_count": 8,
     "metadata": {},
     "output_type": "execute_result"
    }
   ],
   "source": [
    "data.shape"
   ]
  },
  {
   "cell_type": "markdown",
   "id": "ed3686e5-c97c-4886-9b9a-e556398fd85d",
   "metadata": {},
   "source": [
    "## column names in dataframe"
   ]
  },
  {
   "cell_type": "code",
   "execution_count": 9,
   "id": "ce3e33b4-33de-41e3-a6e7-3b88caa9d2be",
   "metadata": {},
   "outputs": [
    {
     "data": {
      "text/plain": [
       "Index(['URL', 'Label'], dtype='object')"
      ]
     },
     "execution_count": 9,
     "metadata": {},
     "output_type": "execute_result"
    }
   ],
   "source": [
    "data.columns"
   ]
  },
  {
   "cell_type": "markdown",
   "id": "1ba0218b-6f59-4a25-8a1c-7b639541a68c",
   "metadata": {},
   "source": [
    "## Information of dataframe"
   ]
  },
  {
   "cell_type": "code",
   "execution_count": 10,
   "id": "a13677f0-cb4a-4690-9e2d-63cc3852f278",
   "metadata": {},
   "outputs": [
    {
     "name": "stdout",
     "output_type": "stream",
     "text": [
      "<class 'pandas.core.frame.DataFrame'>\n",
      "RangeIndex: 549346 entries, 0 to 549345\n",
      "Data columns (total 2 columns):\n",
      " #   Column  Non-Null Count   Dtype \n",
      "---  ------  --------------   ----- \n",
      " 0   URL     549346 non-null  object\n",
      " 1   Label   549346 non-null  object\n",
      "dtypes: object(2)\n",
      "memory usage: 8.4+ MB\n"
     ]
    }
   ],
   "source": [
    "data.info()"
   ]
  },
  {
   "cell_type": "markdown",
   "id": "cd994651-467f-4af4-b849-c5713060dad1",
   "metadata": {},
   "source": [
    "## Description of dataset"
   ]
  },
  {
   "cell_type": "code",
   "execution_count": 11,
   "id": "c581e0e9-ad72-4ab5-9730-cb3e3c523372",
   "metadata": {},
   "outputs": [
    {
     "data": {
      "text/html": [
       "<div>\n",
       "<style scoped>\n",
       "    .dataframe tbody tr th:only-of-type {\n",
       "        vertical-align: middle;\n",
       "    }\n",
       "\n",
       "    .dataframe tbody tr th {\n",
       "        vertical-align: top;\n",
       "    }\n",
       "\n",
       "    .dataframe thead th {\n",
       "        text-align: right;\n",
       "    }\n",
       "</style>\n",
       "<table border=\"1\" class=\"dataframe\">\n",
       "  <thead>\n",
       "    <tr style=\"text-align: right;\">\n",
       "      <th></th>\n",
       "      <th>count</th>\n",
       "      <th>unique</th>\n",
       "      <th>top</th>\n",
       "      <th>freq</th>\n",
       "    </tr>\n",
       "  </thead>\n",
       "  <tbody>\n",
       "    <tr>\n",
       "      <th>URL</th>\n",
       "      <td>549346</td>\n",
       "      <td>507195</td>\n",
       "      <td>jhomitevd2abj3fk.tor2web.org/</td>\n",
       "      <td>52</td>\n",
       "    </tr>\n",
       "    <tr>\n",
       "      <th>Label</th>\n",
       "      <td>549346</td>\n",
       "      <td>2</td>\n",
       "      <td>legit</td>\n",
       "      <td>392924</td>\n",
       "    </tr>\n",
       "  </tbody>\n",
       "</table>\n",
       "</div>"
      ],
      "text/plain": [
       "        count  unique                            top    freq\n",
       "URL    549346  507195  jhomitevd2abj3fk.tor2web.org/      52\n",
       "Label  549346       2                          legit  392924"
      ]
     },
     "execution_count": 11,
     "metadata": {},
     "output_type": "execute_result"
    }
   ],
   "source": [
    "data.describe().T"
   ]
  },
  {
   "cell_type": "markdown",
   "id": "2320a1ec-5e21-4298-8365-b3b27cfd2a18",
   "metadata": {},
   "source": [
    "## Checking Null values"
   ]
  },
  {
   "cell_type": "code",
   "execution_count": 12,
   "id": "e1ed59f6-58d3-442a-a55e-574f23646bec",
   "metadata": {},
   "outputs": [
    {
     "data": {
      "text/plain": [
       "URL      0\n",
       "Label    0\n",
       "dtype: int64"
      ]
     },
     "execution_count": 12,
     "metadata": {},
     "output_type": "execute_result"
    }
   ],
   "source": [
    "data.isnull().sum()"
   ]
  },
  {
   "cell_type": "markdown",
   "id": "0a5580ca-0fb1-49dc-a823-e52aeb1641f0",
   "metadata": {},
   "source": [
    "## Handeling Duplicates"
   ]
  },
  {
   "cell_type": "code",
   "execution_count": 13,
   "id": "39afb388-9e60-47dd-acad-42291307f705",
   "metadata": {},
   "outputs": [
    {
     "data": {
      "text/plain": [
       "42150"
      ]
     },
     "execution_count": 13,
     "metadata": {},
     "output_type": "execute_result"
    }
   ],
   "source": [
    "data.duplicated().sum()"
   ]
  },
  {
   "cell_type": "code",
   "execution_count": 14,
   "id": "38e41f1e-2a54-4a2b-9b7f-b216ce5e7858",
   "metadata": {},
   "outputs": [],
   "source": [
    "data=data.drop_duplicates()"
   ]
  },
  {
   "cell_type": "code",
   "execution_count": 15,
   "id": "6b978b27-e5c0-4f63-8a35-f230be12f2c2",
   "metadata": {},
   "outputs": [
    {
     "data": {
      "text/plain": [
       "0"
      ]
     },
     "execution_count": 15,
     "metadata": {},
     "output_type": "execute_result"
    }
   ],
   "source": [
    "data.duplicated().sum()"
   ]
  },
  {
   "cell_type": "markdown",
   "id": "d981fe59-d1d6-48ef-a3ed-06b540f6440f",
   "metadata": {},
   "source": [
    "### Bar plot for Phishing vs Legit URL Count"
   ]
  },
  {
   "cell_type": "code",
   "execution_count": 16,
   "id": "bacc6bd6-0bf0-425d-b37b-c28a503e4871",
   "metadata": {},
   "outputs": [
    {
     "data": {
      "image/png": "[encoded data removed]",
      "text/plain": [
       "<Figure size 640x480 with 1 Axes>"
      ]
     },
     "metadata": {},
     "output_type": "display_data"
    }
   ],
   "source": [
    "# Plot the distribution\n",
    "data['Label'].value_counts().plot(kind='bar', color=['red', 'green'])\n",
    "plt.title(\"Phishing vs Legit URL Count\")\n",
    "plt.xlabel(\"Class\")\n",
    "plt.ylabel(\"Count\")\n",
    "plt.xticks(rotation=0)\n",
    "plt.grid(axis='y')\n",
    "plt.show()"
   ]
  },
  {
   "cell_type": "markdown",
   "id": "3d7efeee-766b-4125-bd26-52064c39075d",
   "metadata": {},
   "source": [
    "### Phishing Count in pie chart"
   ]
  },
  {
   "cell_type": "code",
   "execution_count": 17,
   "id": "32928f63-043f-4a0e-9112-91fec2f94c8a",
   "metadata": {},
   "outputs": [
    {
     "data": {
      "image/png": "[encoded data removed]",
      "text/plain": [
       "<Figure size 640x480 with 1 Axes>"
      ]
     },
     "metadata": {},
     "output_type": "display_data"
    }
   ],
   "source": [
    "data['Label'].value_counts().plot(kind='pie',autopct='%1.2f%%')\n",
    "plt.title(\"Phishing Count\")\n",
    "plt.show()"
   ]
  },
  {
   "cell_type": "markdown",
   "id": "24c10b1b-a352-463e-8a27-6acd040a200c",
   "metadata": {},
   "source": [
    "## Split the data into 80% train and 20% test"
   ]
  },
  {
   "cell_type": "code",
   "execution_count": 18,
   "id": "2135e034-eb0c-4a42-ba81-e37c3b6b8127",
   "metadata": {},
   "outputs": [
    {
     "data": {
      "text/plain": [
       "('../data/train.csv', '../data/test.csv')"
      ]
     },
     "execution_count": 18,
     "metadata": {},
     "output_type": "execute_result"
    }
   ],
   "source": [
    "train_data, test_data = train_test_split(data, test_size=0.2, random_state=42)\n",
    "\n",
    "# Save the train and test datasets\n",
    "train_file_path = \"../data/train.csv\"\n",
    "test_file_path = \"../data/test.csv\"\n",
    "\n",
    "train_data.to_csv(train_file_path, index=False)\n",
    "test_data.to_csv(test_file_path, index=False)\n",
    "\n",
    "train_file_path, test_file_path"
   ]
  },
  {
   "cell_type": "code",
   "execution_count": null,
   "id": "a981ce84-566b-418a-8a36-d40056bb37f6",
   "metadata": {},
   "outputs": [],
   "source": []
  },
  {
   "cell_type": "code",
   "execution_count": null,
   "id": "eff6fb47-747d-46aa-8ab6-0730e072f193",
   "metadata": {},
   "outputs": [],
   "source": []
  }
 ],
 "metadata": {
  "kernelspec": {
   "display_name": "Python 3 (ipykernel)",
   "language": "python",
   "name": "python3"
  },
  "language_info": {
   "codemirror_mode": {
    "name": "ipython",
    "version": 3
   },
   "file_extension": ".py",
   "mimetype": "text/x-python",
   "name": "python",
   "nbconvert_exporter": "python",
   "pygments_lexer": "ipython3",
   "version": "3.10.9"
  }
 },
 "nbformat": 4,
 "nbformat_minor": 5
}
