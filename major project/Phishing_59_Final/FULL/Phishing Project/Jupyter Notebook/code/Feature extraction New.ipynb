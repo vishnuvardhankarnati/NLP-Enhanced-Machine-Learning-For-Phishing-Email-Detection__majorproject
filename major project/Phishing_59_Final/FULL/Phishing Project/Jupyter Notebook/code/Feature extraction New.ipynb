{
 "cells": [
  {
   "cell_type": "markdown",
   "id": "e761e241-faee-45d0-b841-1c6b64eac3d6",
   "metadata": {},
   "source": [
    "### Importing required libraries"
   ]
  },
  {
   "cell_type": "code",
   "execution_count": 1,
   "id": "f7a29ec3-7256-4410-8f5b-4498eb0c0521",
   "metadata": {},
   "outputs": [],
   "source": [
    "import pandas as pd\n",
    "import re\n",
    "from urllib.parse import urlparse"
   ]
  },
  {
   "cell_type": "markdown",
   "id": "5d98b427-e6ae-4863-951f-9af5062de182",
   "metadata": {},
   "source": [
    "### Feature extraction"
   ]
  },
  {
   "cell_type": "code",
   "execution_count": 2,
   "id": "3b9677ad-5ac6-473a-adbf-783cde19be8e",
   "metadata": {},
   "outputs": [],
   "source": [
    "def extract_url_features(df, url_column='URL'):\n",
    "    df = df.copy()\n",
    "    \n",
    "\n",
    "    df['url_length'] = df[url_column].apply(len)\n",
    "    df['num_dots'] = df[url_column].apply(lambda x: x.count('.'))\n",
    "    df['num_hyphens'] = df[url_column].apply(lambda x: x.count('-'))\n",
    "    df['has_at'] = df[url_column].apply(lambda x: 1 if '@' in x else 0)\n",
    "    df['has_https'] = df[url_column].apply(lambda x: 1 if 'https' in x else 0)\n",
    "    df['has_ip'] = df[url_column].apply(lambda x: 1 if re.match(r'^http[s]?://\\d+\\.\\d+\\.\\d+\\.\\d+', x) else 0)\n",
    "    df['count_suspicious_words'] = df[url_column].apply(lambda x: sum(word in x.lower() for word in ['login', 'secure', 'account', 'update', 'free']))\n",
    "\n",
    "    return df"
   ]
  },
  {
   "cell_type": "markdown",
   "id": "c1ac3619-b27d-4daa-a538-e4bbda51a792",
   "metadata": {},
   "source": [
    "### Load the raw datasets"
   ]
  },
  {
   "cell_type": "code",
   "execution_count": 3,
   "id": "25010302-97c5-4730-aa9a-90e3bb233fa4",
   "metadata": {},
   "outputs": [],
   "source": [
    "train = pd.read_csv(\"../data/train.csv\")\n",
    "test = pd.read_csv(\"../data/test.csv\")"
   ]
  },
  {
   "cell_type": "markdown",
   "id": "cfa4c913-d7ec-44c9-9426-48d7219c9ca3",
   "metadata": {},
   "source": [
    "### Apply feature extraction"
   ]
  },
  {
   "cell_type": "code",
   "execution_count": 4,
   "id": "9e1c7aaf-0cf9-4a1a-a4d6-eff652c1952c",
   "metadata": {},
   "outputs": [],
   "source": [
    "train_features = extract_url_features(train, url_column='URL')\n",
    "test_features = extract_url_features(test, url_column='URL')"
   ]
  },
  {
   "cell_type": "markdown",
   "id": "ef27c0ac-b3e3-4615-8649-87d18128198a",
   "metadata": {},
   "source": [
    "### Saving featured data"
   ]
  },
  {
   "cell_type": "code",
   "execution_count": 5,
   "id": "f72be786-7cfd-46a5-b8d6-6c02b338d6a7",
   "metadata": {},
   "outputs": [],
   "source": [
    "train_features.to_csv(\"../data/train_features.csv\", index=False)\n",
    "test_features.to_csv(\"../data/test_features.csv\", index=False)"
   ]
  },
  {
   "cell_type": "code",
   "execution_count": null,
   "id": "73521cc5-8885-4694-9b04-b0fc500c2dee",
   "metadata": {},
   "outputs": [],
   "source": []
  },
  {
   "cell_type": "code",
   "execution_count": null,
   "id": "648ea76e-2a65-4d95-a9eb-ad469cbb2bb4",
   "metadata": {},
   "outputs": [],
   "source": []
  },
  {
   "cell_type": "code",
   "execution_count": null,
   "id": "8f39d7be-8250-4f5d-9724-d0b064f9309f",
   "metadata": {},
   "outputs": [],
   "source": []
  }
 ],
 "metadata": {
  "kernelspec": {
   "display_name": "Python 3 (ipykernel)",
   "language": "python",
   "name": "python3"
  },
  "language_info": {
   "codemirror_mode": {
    "name": "ipython",
    "version": 3
   },
   "file_extension": ".py",
   "mimetype": "text/x-python",
   "name": "python",
   "nbconvert_exporter": "python",
   "pygments_lexer": "ipython3",
   "version": "3.10.9"
  }
 },
 "nbformat": 4,
 "nbformat_minor": 5
}
