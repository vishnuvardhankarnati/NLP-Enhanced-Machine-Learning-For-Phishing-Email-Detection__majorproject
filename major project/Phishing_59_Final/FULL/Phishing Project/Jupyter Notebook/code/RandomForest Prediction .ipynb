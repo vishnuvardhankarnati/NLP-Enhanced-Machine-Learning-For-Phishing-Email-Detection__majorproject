{
 "cells": [
  {
   "cell_type": "code",
   "execution_count": 13,
   "id": "4c23f0ba-fd6f-41ea-b8b4-072c335dd5b2",
   "metadata": {},
   "outputs": [],
   "source": [
    "import pandas as pd # Helps in data manipulation and analysis using DataFrames and Series."
   ]
  },
  {
   "cell_type": "code",
   "execution_count": 14,
   "id": "f1da8258-f406-44ff-9824-c1809e4f0f42",
   "metadata": {},
   "outputs": [
    {
     "data": {
      "text/plain": [
       "['../model/RandomForest_model_new.pkl']"
      ]
     },
     "execution_count": 14,
     "metadata": {},
     "output_type": "execute_result"
    }
   ],
   "source": [
    "# Load the training data\n",
    "train = pd.read_csv(\"../data/train_encoded.csv\")\n",
    "test = pd.read_csv(\"../data/test_encoded.csv\")\n",
    "\n",
    "# Drop 'URL' column before separating features and target\n",
    "X_train = train.drop(columns=['Label', 'URL'])  # <<< See: Dropping URL\n",
    "y_train = train['Label']\n",
    "\n",
    "X_test = test.drop(columns=['Label', 'URL'])    # <<< See: Dropping URL\n",
    "y_test = test['Label']\n",
    "\n",
    "# Train your model again\n",
    "from sklearn.ensemble import RandomForestClassifier\n",
    "rf_model = RandomForestClassifier()\n",
    "rf_model.fit(X_train, y_train)\n",
    "\n",
    "# Save the model again\n",
    "import joblib\n",
    "joblib.dump(rf_model, \"../model/RandomForest_model_new.pkl\")\n"
   ]
  },
  {
   "cell_type": "code",
   "execution_count": 15,
   "id": "98f9878c-eaf0-4159-824a-539109ab3f5b",
   "metadata": {},
   "outputs": [
    {
     "name": "stdout",
     "output_type": "stream",
     "text": [
      "Enter the web address (URL) to check: 3souls.us/123H/b4rky/b4rky/P1.html?rAtm1d=;8dcd50af3804821120990f23500e12418dcd50af3804821120990f23500e1241\n",
      "⚠️ The URL is predicted to be **Phishing**.\n"
     ]
    }
   ],
   "source": [
    "import joblib\n",
    "import pandas as pd\n",
    "\n",
    "# 1. Load the saved Random Forest model\n",
    "rf_model = joblib.load(\"../model/RandomForest_model_new.pkl\")\n",
    "\n",
    "# 2. Define a function to extract features from a new link\n",
    "def extract_features(url):\n",
    "    features = {}\n",
    "    features['URL'] = url  # <<< Add this line to fix the missing column\n",
    "    features['url_length'] = len(url)\n",
    "    features['num_dots'] = url.count('.')\n",
    "    features['num_hyphens'] = url.count('-')\n",
    "    features['has_at'] = int('@' in url)\n",
    "    features['has_https'] = int('https' in url.lower())\n",
    "    features['has_ip'] = int(any(char.isdigit() for char in url.split('/')[2])) if '://' in url else 0\n",
    "    features['count_suspicious_words'] = sum(word in url.lower() for word in ['login', 'secure', 'account', 'update', 'free', 'verify'])\n",
    "    return features\n",
    "\n",
    "# 3. Ask the user to input a new web address (URL)\n",
    "new_url = input(\"Enter the web address (URL) to check: \")\n",
    "\n",
    "# 4. Extract features from the entered URL\n",
    "url_features = extract_features(new_url)\n",
    "\n",
    "# 5. Convert the features into a DataFrame\n",
    "input_df = pd.DataFrame([url_features])\n",
    "\n",
    "# 6. Drop 'URL' column before prediction (since model expects features only)\n",
    "input_df = input_df.drop(columns=['URL'])\n",
    "\n",
    "# 7. Make a prediction\n",
    "prediction = rf_model.predict(input_df)[0]\n",
    "\n",
    "# 8. Output the result\n",
    "if prediction == 1:\n",
    "    print(\"⚠️ The URL is predicted to be **Phishing**.\")\n",
    "else:\n",
    "    print(\"✅ The URL is predicted to be **Legitimate**.\")\n"
   ]
  },
  {
   "cell_type": "code",
   "execution_count": null,
   "id": "ec2cc76d-2277-4166-884c-15f16ab40c3f",
   "metadata": {},
   "outputs": [],
   "source": []
  },
  {
   "cell_type": "code",
   "execution_count": 16,
   "id": "6d0d58b9",
   "metadata": {},
   "outputs": [
    {
     "name": "stdout",
     "output_type": "stream",
     "text": [
      "Enter the web address (URL) to check: 3souls.us/123H/b4rky/b4rky/P1.html?rAtm1d=;8dcd50af3804821120990f23500e12418dcd50af3804821120990f23500e1241\n",
      "⚠️ The URL is predicted to be **Phishing**.\n"
     ]
    }
   ],
   "source": [
    "import joblib\n",
    "import pandas as pd\n",
    "import requests\n",
    "\n",
    "# 1. Load the saved Random Forest model\n",
    "rf_model = joblib.load(\"../model/RandomForest_model_new.pkl\")\n",
    "\n",
    "# 2. Function to extract features from a URL\n",
    "def extract_features(url):\n",
    "    features = {}\n",
    "    features['URL'] = url\n",
    "    features['url_length'] = len(url)\n",
    "    features['num_dots'] = url.count('.')\n",
    "    features['num_hyphens'] = url.count('-')\n",
    "    features['has_at'] = int('@' in url)\n",
    "    features['has_https'] = int('https' in url.lower())\n",
    "    features['has_ip'] = int(any(char.isdigit() for char in url.split('/')[2])) if '://' in url else 0\n",
    "    features['count_suspicious_words'] = sum(word in url.lower() for word in ['login', 'secure', 'account', 'update', 'free', 'verify'])\n",
    "    return features\n",
    "\n",
    "# 3. Function to check if a URL exists\n",
    "def check_url_exists(url):\n",
    "    try:\n",
    "        response = requests.head(url, allow_redirects=True, timeout=5)\n",
    "        return response.status_code < 400\n",
    "    except requests.RequestException:\n",
    "        return False\n",
    "\n",
    "# 4. Input from user\n",
    "user_input_url = input(\"Enter the web address (URL) to check: \")\n",
    "\n",
    "# Ensure the URL starts with http:// or https://\n",
    "if not user_input_url.startswith(('http://', 'https://')):\n",
    "    full_url = 'http://' + user_input_url\n",
    "else:\n",
    "    full_url = user_input_url\n",
    "\n",
    "# 5. Extract features and predict\n",
    "url_features = extract_features(full_url)\n",
    "input_df = pd.DataFrame([url_features]).drop(columns=['URL'])\n",
    "prediction = rf_model.predict(input_df)[0]\n",
    "\n",
    "# 6. Check result and existence\n",
    "if prediction == 1:\n",
    "    print(\"⚠️ The URL is predicted to be **Phishing**.\")\n",
    "else:\n",
    "    if check_url_exists(full_url):\n",
    "        print(\"✅ The URL is **Legitimate** and **Exists**.\")\n",
    "    else:\n",
    "        print(\"❌ The URL is **Not Reachable** (Does Not Exist).\")\n"
   ]
  },
  {
   "cell_type": "code",
   "execution_count": 17,
   "id": "87009099",
   "metadata": {},
   "outputs": [
    {
     "name": "stdout",
     "output_type": "stream",
     "text": [
      "Enter the web address (URL) to check: learnai.co.in\n",
      "✅ The URL is **Legitimate** and **Exists**.\n"
     ]
    }
   ],
   "source": [
    "import joblib\n",
    "import pandas as pd\n",
    "import requests\n",
    "\n",
    "# 1. Load the saved Random Forest model\n",
    "rf_model = joblib.load(\"../model/RandomForest_model_new.pkl\")\n",
    "\n",
    "# 2. Function to extract features from a URL\n",
    "def extract_features(url):\n",
    "    features = {}\n",
    "    features['URL'] = url\n",
    "    features['url_length'] = len(url)\n",
    "    features['num_dots'] = url.count('.')\n",
    "    features['num_hyphens'] = url.count('-')\n",
    "    features['has_at'] = int('@' in url)\n",
    "    features['has_https'] = int('https' in url.lower())\n",
    "    features['has_ip'] = int(any(char.isdigit() for char in url.split('/')[2])) if '://' in url else 0\n",
    "    features['count_suspicious_words'] = sum(word in url.lower() for word in ['login', 'secure', 'account', 'update', 'free', 'verify'])\n",
    "    return features\n",
    "\n",
    "# 3. Function to check if a URL exists\n",
    "def check_url_exists(url):\n",
    "    try:\n",
    "        response = requests.head(url, allow_redirects=True, timeout=5)\n",
    "        return response.status_code < 400\n",
    "    except requests.RequestException:\n",
    "        return False\n",
    "\n",
    "# 4. Input from user\n",
    "user_input_url = input(\"Enter the web address (URL) to check: \")\n",
    "\n",
    "# Ensure the URL starts with http:// or https://\n",
    "if not user_input_url.startswith(('http://', 'https://')):\n",
    "    full_url = 'http://' + user_input_url\n",
    "else:\n",
    "    full_url = user_input_url\n",
    "\n",
    "# 5. Extract features and predict\n",
    "url_features = extract_features(full_url)\n",
    "input_df = pd.DataFrame([url_features]).drop(columns=['URL'])\n",
    "prediction = rf_model.predict(input_df)[0]\n",
    "\n",
    "# 6. Check result and existence\n",
    "if prediction == 1:\n",
    "    print(\"⚠️ The URL is predicted to be **Phishing**.\")\n",
    "else:\n",
    "    if check_url_exists(full_url):\n",
    "        print(\"✅ The URL is **Legitimate** and **Exists**.\")\n",
    "    else:\n",
    "        print(\"❌ The URL is **Legitimate** but **Not Reachable** (Does Not Exist).\")\n"
   ]
  },
  {
   "cell_type": "code",
   "execution_count": 18,
   "id": "b88654dd",
   "metadata": {},
   "outputs": [
    {
     "name": "stdout",
     "output_type": "stream",
     "text": [
      "Enter the web address (URL) to check: https://www.faccccebook.com/\n",
      "⚠️ The URL is predicted to be **Phishing**.\n"
     ]
    }
   ],
   "source": [
    "import joblib\n",
    "import pandas as pd\n",
    "import requests\n",
    "\n",
    "# 1. Load the saved Random Forest model\n",
    "rf_model = joblib.load(\"../model/RandomForest_model_new.pkl\")\n",
    "\n",
    "# 2. Function to extract features from a URL\n",
    "def extract_features(url):\n",
    "    features = {}\n",
    "    features['URL'] = url\n",
    "    features['url_length'] = len(url)\n",
    "    features['num_dots'] = url.count('.')\n",
    "    features['num_hyphens'] = url.count('-')\n",
    "    features['has_at'] = int('@' in url)\n",
    "    features['has_https'] = int('https' in url.lower())\n",
    "    features['has_ip'] = int(any(char.isdigit() for char in url.split('/')[2])) if '://' in url else 0\n",
    "    features['count_suspicious_words'] = sum(word in url.lower() for word in ['login', 'secure', 'account', 'update', 'free', 'verify'])\n",
    "    return features\n",
    "\n",
    "# 3. Function to check if a URL exists\n",
    "def check_url_exists(url):\n",
    "    try:\n",
    "        response = requests.head(url, allow_redirects=True, timeout=5)\n",
    "        return response.status_code < 400\n",
    "    except requests.RequestException:\n",
    "        return False\n",
    "\n",
    "# 4. Input from user\n",
    "user_input_url = input(\"Enter the web address (URL) to check: \")\n",
    "\n",
    "# Ensure the URL starts with http:// or https://\n",
    "if not user_input_url.startswith(('http://', 'https://')):\n",
    "    full_url = 'http://' + user_input_url\n",
    "else:\n",
    "    full_url = user_input_url\n",
    "\n",
    "# 5. Extract features and predict\n",
    "url_features = extract_features(full_url)\n",
    "input_df = pd.DataFrame([url_features]).drop(columns=['URL'])\n",
    "prediction = rf_model.predict(input_df)[0]\n",
    "\n",
    "# 6. Check result and existence\n",
    "if prediction == 1:\n",
    "    print(\"⚠️ The URL is predicted to be **Phishing**.\")\n",
    "else:\n",
    "    if check_url_exists(full_url):\n",
    "        print(\"✅ The URL is **Legitimate** and **Exists**.\")\n",
    "    else:\n",
    "        print(\"❌ The URL is **Legitimate** but **Not Reachable** (Does Not Exist).\")\n"
   ]
  },
  {
   "cell_type": "code",
   "execution_count": 21,
   "id": "20a45ef0",
   "metadata": {},
   "outputs": [
    {
     "name": "stdout",
     "output_type": "stream",
     "text": [
      "Enter the web address (URL) to check: 192.com/atoz/people/harrison/miriam/\n",
      "❌ The URL is **Not Reachable** (Does Not Exist).\n"
     ]
    }
   ],
   "source": [
    "import joblib\n",
    "import pandas as pd\n",
    "import requests\n",
    "\n",
    "# 1. Load the saved Random Forest model\n",
    "rf_model = joblib.load(\"../model/RandomForest_model_new.pkl\")\n",
    "\n",
    "# 2. Function to extract features from a URL\n",
    "def extract_features(url):\n",
    "    features = {}\n",
    "    features['URL'] = url\n",
    "    features['url_length'] = len(url)\n",
    "    features['num_dots'] = url.count('.')\n",
    "    features['num_hyphens'] = url.count('-')\n",
    "    features['has_at'] = int('@' in url)\n",
    "    features['has_https'] = int('https' in url.lower())\n",
    "    features['has_ip'] = int(any(char.isdigit() for char in url.split('/')[2])) if '://' in url else 0\n",
    "    features['count_suspicious_words'] = sum(word in url.lower() for word in ['login', 'secure', 'account', 'update', 'free', 'verify'])\n",
    "    return features\n",
    "\n",
    "# 3. Function to check if a URL exists\n",
    "def check_url_exists(url):\n",
    "    try:\n",
    "        response = requests.head(url, allow_redirects=True, timeout=5)\n",
    "        return response.status_code < 400\n",
    "    except requests.RequestException:\n",
    "        return False\n",
    "\n",
    "# 4. Input from user\n",
    "user_input_url = input(\"Enter the web address (URL) to check: \")\n",
    "\n",
    "# Ensure the URL starts with http:// or https://\n",
    "if not user_input_url.startswith(('http://', 'https://')):\n",
    "    full_url = 'http://' + user_input_url\n",
    "else:\n",
    "    full_url = user_input_url\n",
    "\n",
    "# 5. Extract features and predict\n",
    "url_features = extract_features(full_url)\n",
    "input_df = pd.DataFrame([url_features]).drop(columns=['URL'])\n",
    "prediction = rf_model.predict(input_df)[0]\n",
    "\n",
    "# 6. Check result and existence\n",
    "if prediction == 1:\n",
    "    print(\"⚠️ The URL is predicted to be **Phishing**.\")\n",
    "else:\n",
    "    if check_url_exists(full_url):\n",
    "        print(\"✅ The URL is **Legitimate** and **Exists**.\")\n",
    "    else:\n",
    "        print(\"❌ The URL is **Not Reachable** (Does Not Exist).\")\n"
   ]
  },
  {
   "cell_type": "code",
   "execution_count": null,
   "id": "6bd08909",
   "metadata": {},
   "outputs": [],
   "source": []
  }
 ],
 "metadata": {
  "kernelspec": {
   "display_name": "Python 3 (ipykernel)",
   "language": "python",
   "name": "python3"
  },
  "language_info": {
   "codemirror_mode": {
    "name": "ipython",
    "version": 3
   },
   "file_extension": ".py",
   "mimetype": "text/x-python",
   "name": "python",
   "nbconvert_exporter": "python",
   "pygments_lexer": "ipython3",
   "version": "3.11.7"
  }
 },
 "nbformat": 4,
 "nbformat_minor": 5
}
